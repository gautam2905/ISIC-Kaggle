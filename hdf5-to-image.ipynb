{
 "cells": [
  {
   "cell_type": "code",
   "execution_count": 32,
   "metadata": {},
   "outputs": [
    {
     "name": "stdout",
     "output_type": "stream",
     "text": [
      "Keys: ISIC_0015740\n",
      "image size: (119, 119)\n"
     ]
    }
   ],
   "source": [
    "import h5py\n",
    "import numpy as np\n",
    "import io\n",
    "from PIL import Image\n",
    "\n",
    "hdf5_file = 'test-image.hdf5'\n",
    "\n",
    "hf = h5py.File(hdf5_file, 'r')\n",
    "\n",
    "key = list(hf.keys())[2]  # Change 2 to produce any other image\n",
    "print(\"Keys: %s\" % key)\n",
    "\n",
    "data = np.array(hf[key])\n",
    "img = Image.open(io.BytesIO(data))\n",
    "img1 = img.save(f'{key}.jpg')\n",
    "print('image size:', img.size)\n",
    "hf.close()\n",
    "img.show()"
   ]
  },
  {
   "cell_type": "code",
   "execution_count": null,
   "metadata": {},
   "outputs": [],
   "source": []
  }
 ],
 "metadata": {
  "kernelspec": {
   "display_name": "fenv",
   "language": "python",
   "name": "python3"
  },
  "language_info": {
   "codemirror_mode": {
    "name": "ipython",
    "version": 3
   },
   "file_extension": ".py",
   "mimetype": "text/x-python",
   "name": "python",
   "nbconvert_exporter": "python",
   "pygments_lexer": "ipython3",
   "version": "3.11.9"
  }
 },
 "nbformat": 4,
 "nbformat_minor": 2
}
